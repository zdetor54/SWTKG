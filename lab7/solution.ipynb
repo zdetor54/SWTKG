{
 "cells": [
  {
   "cell_type": "code",
   "execution_count": 1,
   "metadata": {},
   "outputs": [],
   "source": [
    "from rdflib import Graph\n",
    "import owlrl\n",
    "from SPARQLWrapper import SPARQLWrapper, JSON, XML\n",
    "from pprint import pprint\n",
    "import time"
   ]
  },
  {
   "cell_type": "code",
   "execution_count": 2,
   "metadata": {},
   "outputs": [
    {
     "name": "stdout",
     "output_type": "stream",
     "text": [
      "Loaded '1015' triples.\n",
      "China, 53\n",
      "India, 8\n",
      "United States, 4\n",
      "Japan, 3\n",
      "Brazil, 2\n",
      "Nigeria, 2\n",
      "Pakistan, 2\n",
      "Vietnam, 2\n",
      "Chile, 1\n",
      "Hong Kong, 1\n",
      "France, 1\n",
      "Iran, 1\n",
      "Colombia, 1\n",
      "Peru, 1\n",
      "Angola, 1\n",
      "Tanzania, 1\n",
      "Thailand, 1\n",
      "Argentina, 1\n",
      "Bangladesh, 1\n",
      "Philippines, 1\n",
      "Indonesia, 1\n",
      "Turkey, 1\n",
      "Russia, 1\n",
      "Sudan, 1\n",
      "Malaysia, 1\n",
      "Saudi Arabia, 1\n",
      "Mexico, 1\n",
      "Korea, South, 1\n",
      "Congo (Kinshasa), 1\n",
      "Egypt, 1\n",
      "United Kingdom, 1\n"
     ]
    }
   ],
   "source": [
    "g = Graph()\n",
    "g.parse(\"lab3_data_graph-full.ttl\", format=\"ttl\")\n",
    "print(\"Loaded '\" + str(len(g)) + \"' triples.\")\n",
    "\n",
    "\n",
    "qres = g.query(\n",
    "\"\"\"\n",
    "SELECT ?countryName (count(?cityName) as ?cityCount) \n",
    "WHERE{\n",
    "    ?country a ex:Country;\n",
    "            ex:name ?countryName.\n",
    "    ?city ex:hasCountry ?country;\n",
    "            ex:name ?cityName.\n",
    "}\n",
    "GROUP BY ?countryName\n",
    "ORDER BY DESC(?cityCount)\n",
    "\"\"\")\n",
    "\n",
    "#Single row with one boolean vale\n",
    "for row in qres:\n",
    "    print(f\"{str(row.countryName)},\", int(row.cityCount))"
   ]
  },
  {
   "cell_type": "code",
   "execution_count": 3,
   "metadata": {},
   "outputs": [
    {
     "name": "stdout",
     "output_type": "stream",
     "text": [
      "\n",
      "RESULTS:\n",
      "USA  -  269\n",
      "United Kingdom  -  84\n",
      "Germany  -  63\n",
      "France  -  52\n",
      "New York, NY  -  47\n",
      "Sweden  -  29\n",
      "Japan  -  26\n",
      "Paris  -  25\n",
      "Canada  -  19\n",
      "London  -  19\n",
      "the Netherlands  -  18\n",
      "Italy  -  17\n",
      "Russia  -  17\n",
      "Switzerland  -  17\n",
      "Austria  -  14\n",
      "Vienna  -  14\n",
      "Chicago, IL  -  12\n",
      "Norway  -  12\n",
      "Berlin  -  11\n",
      "China  -  11\n",
      "Denmark  -  11\n",
      "Scotland  -  11\n"
     ]
    }
   ],
   "source": [
    "#Same query with prefixes     \n",
    "nobelprize_endpoint = \"http://data.nobelprize.org/sparql\"\n",
    "nobelprize_query = \"\"\"\n",
    "    PREFIX dbpedia-owl: <http://dbpedia.org/ontology/>\n",
    "    PREFIX nobel: <http://data.nobelprize.org/terms/>\n",
    "    PREFIX foaf: <http://xmlns.com/foaf/0.1/>\n",
    "    PREFIX rdfs: <http://www.w3.org/2000/01/rdf-schema#>\n",
    "    PREFIX rdf: <http://www.w3.org/1999/02/22-rdf-syntax-ns#>\n",
    "    SELECT DISTINCT ?countryName (count(?laureate) as ?nobelAwards)\n",
    "    WHERE {\n",
    "      ?laureate rdf:type nobel:Laureate;\n",
    "    dbpedia-owl:birthPlace [rdfs:label ?countryName].\n",
    "    }\n",
    "    group by ?countryName\n",
    "    having (?nobelAwards>10)\n",
    "    order by Desc(?nobelAwards)\n",
    "    \"\"\"\n",
    "\n",
    "sparql_web = SPARQLWrapper(nobelprize_endpoint)\n",
    "sparql_web.setReturnFormat(JSON)\n",
    "sparql_web.setQuery(nobelprize_query)\n",
    "results = sparql_web.query().convert()\n",
    "\n",
    "print(\"\\nRESULTS:\")\n",
    "for result in results[\"results\"][\"bindings\"]:\n",
    "\n",
    "    #Prints individual results \n",
    "    print(result[\"countryName\"][\"value\"], \" - \", result[\"nobelAwards\"][\"value\"])"
   ]
  },
  {
   "cell_type": "code",
   "execution_count": null,
   "metadata": {},
   "outputs": [],
   "source": []
  }
 ],
 "metadata": {
  "kernelspec": {
   "display_name": "Python 3",
   "language": "python",
   "name": "python3"
  },
  "language_info": {
   "codemirror_mode": {
    "name": "ipython",
    "version": 3
   },
   "file_extension": ".py",
   "mimetype": "text/x-python",
   "name": "python",
   "nbconvert_exporter": "python",
   "pygments_lexer": "ipython3",
   "version": "3.7.4"
  }
 },
 "nbformat": 4,
 "nbformat_minor": 4
}
