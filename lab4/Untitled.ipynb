{
 "cells": [
  {
   "cell_type": "code",
   "execution_count": 3,
   "metadata": {},
   "outputs": [],
   "source": [
    "from rdflib import Graph\n",
    "import owlrl\n"
   ]
  },
  {
   "cell_type": "code",
   "execution_count": 13,
   "metadata": {},
   "outputs": [],
   "source": [
    "def queryLocalGraph(file, triple):\n",
    "    g = Graph()\n",
    "    g.parse(file,format=\"ttl\")\n",
    "\n",
    "    qres = g.query(\"\"\"ask\"\"\" + triple)\n",
    "    print(f\"Statement: {triple} is {qres.askAnswer}\")\n"
   ]
  },
  {
   "cell_type": "code",
   "execution_count": 14,
   "metadata": {},
   "outputs": [
    {
     "name": "stdout",
     "output_type": "stream",
     "text": [
      "Statement: {:Father rdfs:subClassOf :Person .} is True\n",
      "Statement: {:Woman rdfs:subClassOf :Person .} is True\n",
      "Statement: {:Juliet a :Person .} is True\n",
      "Statement: {:Ann a :Child .} is False\n",
      "Statement: {:Ann :isChildOf :Carl .} is False\n",
      "Statement: {:Ann :hasParent :Juliet .} is True\n",
      "Statement: {rdfs:range rdf:type rdfs:Resource .} is True\n",
      "Statement: {:Mother rdfs:subClassOf :Person .} is True\n"
     ]
    }
   ],
   "source": [
    "questions = [\":Father rdfs:subClassOf :Person .\"\n",
    ",\":Woman rdfs:subClassOf :Person .\"\n",
    ",\":Juliet a :Person .\"\n",
    ",\":Ann a :Child .\"\n",
    ",\":Ann :isChildOf :Carl .\"\n",
    ",\":Ann :hasParent :Juliet .\"\n",
    ",\"rdfs:range rdf:type rdfs:Resource .\"\n",
    ",\":Mother rdfs:subClassOf :Person .\"]\n",
    "\n",
    "for question in questions:\n",
    "    queryLocalGraph(\"lab4_inference.ttl\", '{' + question + '}')"
   ]
  },
  {
   "cell_type": "code",
   "execution_count": 9,
   "metadata": {},
   "outputs": [
    {
     "name": "stdout",
     "output_type": "stream",
     "text": [
      "Statement is True\n"
     ]
    }
   ],
   "source": [
    "\n",
    "g = Graph()\n",
    "g.parse(\"lab4_inference.ttl\",format=\"ttl\")\n",
    "qres = g.query(\"\"\"ask {:Father rdfs:subClassOf :Person .}\"\"\")\n",
    "\n",
    "for row in qres:\n",
    "    print(f\"Statement is {str(row)}\")\n"
   ]
  },
  {
   "cell_type": "code",
   "execution_count": 12,
   "metadata": {},
   "outputs": [
    {
     "data": {
      "text/plain": [
       "True"
      ]
     },
     "execution_count": 12,
     "metadata": {},
     "output_type": "execute_result"
    }
   ],
   "source": [
    "qres.askAnswer"
   ]
  },
  {
   "cell_type": "code",
   "execution_count": null,
   "metadata": {},
   "outputs": [],
   "source": []
  }
 ],
 "metadata": {
  "kernelspec": {
   "display_name": "Python 3",
   "language": "python",
   "name": "python3"
  },
  "language_info": {
   "codemirror_mode": {
    "name": "ipython",
    "version": 3
   },
   "file_extension": ".py",
   "mimetype": "text/x-python",
   "name": "python",
   "nbconvert_exporter": "python",
   "pygments_lexer": "ipython3",
   "version": "3.7.3"
  }
 },
 "nbformat": 4,
 "nbformat_minor": 2
}
