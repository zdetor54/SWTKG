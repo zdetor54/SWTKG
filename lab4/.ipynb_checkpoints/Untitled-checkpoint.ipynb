{
 "cells": [
  {
   "cell_type": "code",
   "execution_count": 3,
   "metadata": {},
   "outputs": [],
   "source": [
    "from rdflib import Graph\n",
    "import owlrl\n"
   ]
  },
  {
   "cell_type": "code",
   "execution_count": 6,
   "metadata": {},
   "outputs": [],
   "source": [
    "def queryLocalGraph(file, triple):\n",
    "    g = Graph()\n",
    "    g.parse(file,format=\"ttl\")\n",
    "\n",
    "    qres = g.query(\"\"\"ask\"\"\" + triple)\n",
    "    \n",
    "    for row in qres:\n",
    "        print(f\"Statement: {triple} is {str(row)}\")"
   ]
  },
  {
   "cell_type": "code",
   "execution_count": null,
   "metadata": {},
   "outputs": [],
   "source": [
    "questions = [\":Father rdfs:subClassOf :Person .\"\n",
    ",\":Woman rdfs:subClassOf :Person .\"\n",
    ",\":Juliet a :Person .\"\n",
    ",\":Ann a :Child .\"\n",
    ",\":Ann :isChildOf :Carl .\"\n",
    ",\":Ann :hasParent :Juliet .\"\n",
    ",\"rdfs:range rdf:type rdfs:Resource .\"\n",
    ",\":Mother rdfs:subClassOf :Person .\"]\n",
    "\n",
    "for question in questions:\n",
    "    queryLocalGraph(\"lab4_inference.ttl\", '{' + question + '}')"
   ]
  },
  {
   "cell_type": "code",
   "execution_count": 8,
   "metadata": {},
   "outputs": [
    {
     "ename": "NameError",
     "evalue": "name 'triple' is not defined",
     "output_type": "error",
     "traceback": [
      "\u001b[1;31m---------------------------------------------------------------------------\u001b[0m",
      "\u001b[1;31mNameError\u001b[0m                                 Traceback (most recent call last)",
      "\u001b[1;32m<ipython-input-8-d5cd08564201>\u001b[0m in \u001b[0;36m<module>\u001b[1;34m\u001b[0m\n\u001b[0;32m      5\u001b[0m \u001b[1;33m\u001b[0m\u001b[0m\n\u001b[0;32m      6\u001b[0m \u001b[1;32mfor\u001b[0m \u001b[0mrow\u001b[0m \u001b[1;32min\u001b[0m \u001b[0mqres\u001b[0m\u001b[1;33m:\u001b[0m\u001b[1;33m\u001b[0m\u001b[1;33m\u001b[0m\u001b[0m\n\u001b[1;32m----> 7\u001b[1;33m     \u001b[0mprint\u001b[0m\u001b[1;33m(\u001b[0m\u001b[1;34mf\"Statement: {triple} is {str(row)}\"\u001b[0m\u001b[1;33m)\u001b[0m\u001b[1;33m\u001b[0m\u001b[1;33m\u001b[0m\u001b[0m\n\u001b[0m",
      "\u001b[1;31mNameError\u001b[0m: name 'triple' is not defined"
     ]
    }
   ],
   "source": [
    "\n",
    "g = Graph()\n",
    "g.parse(\"lab4_inference.ttl\",format=\"ttl\")\n",
    "qres = g.query(\"\"\"ask {:Father rdfs:subClassOf :Person .}\"\"\")\n",
    "\n",
    "for row in qres:\n",
    "    print(f\"Statement is {str(row)}\")\n"
   ]
  },
  {
   "cell_type": "code",
   "execution_count": null,
   "metadata": {},
   "outputs": [],
   "source": []
  }
 ],
 "metadata": {
  "kernelspec": {
   "display_name": "Python 3",
   "language": "python",
   "name": "python3"
  },
  "language_info": {
   "codemirror_mode": {
    "name": "ipython",
    "version": 3
   },
   "file_extension": ".py",
   "mimetype": "text/x-python",
   "name": "python",
   "nbconvert_exporter": "python",
   "pygments_lexer": "ipython3",
   "version": "3.7.3"
  }
 },
 "nbformat": 4,
 "nbformat_minor": 2
}
