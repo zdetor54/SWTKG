{
 "cells": [
  {
   "cell_type": "code",
   "execution_count": 1,
   "metadata": {},
   "outputs": [
    {
     "name": "stderr",
     "output_type": "stream",
     "text": [
      "* Owlready2 * Warning: optimized Cython parser module 'owlready2_optimized' is not available, defaulting to slower Python implementation\n"
     ]
    }
   ],
   "source": [
    "import csv\n",
    "import pandas as pd\n",
    "from owlready2 import *\n",
    "import owlrl\n",
    "from lookup import DBpediaLookup\n",
    "from stringcmp import isub\n",
    "\n",
    "from rdflib import Graph\n",
    "from rdflib import URIRef, BNode, Literal\n",
    "from rdflib import Namespace\n",
    "from rdflib.namespace import OWL, RDF, RDFS, FOAF, XSD\n"
   ]
  },
  {
   "cell_type": "code",
   "execution_count": 2,
   "metadata": {},
   "outputs": [],
   "source": [
    "# using_builtin_libary(\"worldcities-free-100.csv\")\n",
    "df = pd.read_csv(\"worldcities-free-100.csv\", sep=',', quotechar='\"',escapechar=\"\\\\\")"
   ]
  },
  {
   "cell_type": "code",
   "execution_count": 18,
   "metadata": {},
   "outputs": [],
   "source": [
    "g = Graph()\n",
    "\n",
    "namespace_str = 'http://www.semanticweb.org/zacharias.detorakis/ontologies/2021/2/lab#'\n",
    "ex = Namespace(namespace_str)\n",
    "g.bind(\"ex\", ex)\n",
    "\n",
    "for index, row in df.iterrows():\n",
    "    \n",
    "    # Create the URIs for the cities and countries\n",
    "    city = URIRef(namespace_str+row['city_ascii'].replace(\" \", \"_\"))\n",
    "    country = URIRef(namespace_str+row['country'].replace(\" \", \"_\"))\n",
    "    g.add((city, RDF.type, ex.City))\n",
    "    g.add((country, RDF.type, ex.Country))\n",
    "    \n",
    "    # Add city properties\n",
    "    g.add((city, ex.name, Literal(row['city'])))\n",
    "    g.add((city, ex.cityAscii, Literal(row['city_ascii'])))\n",
    "    g.add((city, ex.adminName, Literal(row['admin_name'])))\n",
    "    g.add((city, ex.lattitude, Literal(row['lat'])))\n",
    "    g.add((city, ex.longitude, Literal(row['lng'])))\n",
    "    g.add((city, ex.population, Literal(row['population'])))\n",
    "    g.add((city, ex.hasCountry, country))\n",
    "    if (row['capital'] == row['capital']): #check for nan\n",
    "        g.add((city, ex.capitalStatus, Literal(row['capital'])))\n",
    "\n",
    "    # Add country data properties\n",
    "    g.add((country, ex.iso2Code,  Literal(row['iso2'])))\n",
    "    g.add((country, ex.iso3_code,  Literal(row['iso3'])))\n",
    "    g.add((country, ex.name,  Literal(row['country'])))\n",
    "    \n",
    "    if (row['capital'] == 'primary'):\n",
    "        g.add((country, ex.hasCapital, city))\n",
    "    \n",
    "# print(g.serialize(format=\"turtle\").decode(\"utf-8\"))\n",
    "g.serialize(destination='lab3_data_graph.ttl', format='ttl')"
   ]
  },
  {
   "cell_type": "code",
   "execution_count": 20,
   "metadata": {},
   "outputs": [],
   "source": [
    "g.serialize(destination='lab3_data_graph_inferred.ttl', format='ttl')"
   ]
  },
  {
   "cell_type": "code",
   "execution_count": 19,
   "metadata": {},
   "outputs": [
    {
     "name": "stdout",
     "output_type": "stream",
     "text": [
      "Triples after loading the CSV: '1015'.\n",
      "Triples after ontology loading: '1070'.\n",
      "Triples after OWL 2 RL reasoning: '5150'.\n"
     ]
    }
   ],
   "source": [
    "print(\"Triples after loading the CSV: '\" + str(len(g)) + \"'.\")\n",
    "g.parse(\"lab6_rdflib.ttl\", format=\"ttl\")\n",
    "print(\"Triples after ontology loading: '\" + str(len(g)) + \"'.\")\n",
    "owlrl.DeductiveClosure(owlrl.OWLRL_Semantics, axiomatic_triples=True, datatype_axioms=False).expand(g)\n",
    "print(\"Triples after OWL 2 RL reasoning: '\" + str(len(g)) + \"'.\")\n"
   ]
  },
  {
   "cell_type": "code",
   "execution_count": 25,
   "metadata": {},
   "outputs": [
    {
     "name": "stdout",
     "output_type": "stream",
     "text": [
      "24\n",
      "'country_name','city_name','capital','population'\n",
      "'Angola','Luanda','primary',8417000\n",
      "'Argentina','Buenos Aires','primary',16157000\n",
      "'Bangladesh','Dhaka','primary',15443000\n",
      "'Chile','Santiago','primary',7007000\n",
      "'China','Beijing','primary',19433000\n",
      "'Colombia','Bogotá','primary',9464000\n",
      "'Congo (Kinshasa)','Kinshasa','primary',13528000\n",
      "'Egypt','Cairo','primary',19372000\n",
      "'France','Paris','primary',11020000\n",
      "'Indonesia','Jakarta','primary',34540000\n",
      "'Iran','Tehran','primary',13633000\n",
      "'Japan','Tokyo','primary',37977000\n",
      "'Korea, South','Seoul','primary',21794000\n",
      "'Malaysia','Kuala Lumpur','primary',8285000\n",
      "'Mexico','Mexico City','primary',20996000\n",
      "'Peru','Lima','primary',9848000\n",
      "'Philippines','Manila','primary',23088000\n",
      "'Russia','Moscow','primary',17125000\n",
      "'Saudi Arabia','Riyadh','primary',6881000\n",
      "'Sudan','Khartoum','primary',7282000\n",
      "'Tanzania','Dar es Salaam','primary',6698000\n",
      "'Thailand','Bangkok','primary',17066000\n",
      "'United Kingdom','London','primary',10979000\n",
      "'Vietnam','Hanoi','primary',7785000\n"
     ]
    }
   ],
   "source": [
    "# Initialise the graph\n",
    "g = Graph()\n",
    "\n",
    "# parse the data created in task 3\n",
    "g.parse(\"lab3_data_graph.ttl\", format=\"ttl\")\n",
    "# g.parse(\"lab3_data_graph-full.ttl\", format=\"ttl\")\n",
    "\n",
    "# construct and run the SPARQL query\n",
    "qres = g.query(\n",
    "    \"\"\"SELECT ?name ?capital ?population ?country_name where {\n",
    "      ?city rdf:type ex:City;\n",
    "              ex:name ?name;\n",
    "              ex:population ?population;\n",
    "              ex:capitalStatus ?capital;\n",
    "              ex:hasCountry ?country.\n",
    "      ?country ex:name ?country_name.\n",
    "              \n",
    "      FILTER (STR(?capital)=\"primary\").\n",
    "      FILTER (?population>5000000).\n",
    "      \n",
    "    }\n",
    "    ORDER BY ?country_name\n",
    "    \"\"\")\n",
    "print(len(qres))\n",
    "\n",
    "print(f\"'country_name','city_name','capital','population'\")\n",
    "for row in qres:\n",
    "#     Row is a list of matched RDF terms: URIs, literals or blank nodes\n",
    "    print(f\"'{str(row.country_name)}','{str(row.name)}','{str(row.capital)}',{str(row.population)}\")"
   ]
  },
  {
   "cell_type": "code",
   "execution_count": 6,
   "metadata": {},
   "outputs": [
    {
     "data": {
      "text/plain": [
       "24"
      ]
     },
     "execution_count": 6,
     "metadata": {},
     "output_type": "execute_result"
    }
   ],
   "source": [
    "len(qres)"
   ]
  },
  {
   "cell_type": "code",
   "execution_count": 3,
   "metadata": {},
   "outputs": [],
   "source": [
    "def getExternalKGURI(name):\n",
    "    '''\n",
    "    Approximate solution: We get the entity with highest lexical similarity\n",
    "    The use of context may be necessary in some cases        \n",
    "    '''\n",
    "    \n",
    "    dbpedia = DBpediaLookup()\n",
    "    entities = dbpedia.getKGEntities(name, 5)\n",
    "    #print(\"Entities from DBPedia:\")\n",
    "    current_sim = -1\n",
    "    current_uri=''\n",
    "    for ent in entities:           \n",
    "        isub_score = isub(name, ent.label) \n",
    "        if current_sim < isub_score:\n",
    "            current_uri = ent.ident\n",
    "            current_sim = isub_score\n",
    "\n",
    "#     print(current_uri)\n",
    "    return current_uri "
   ]
  },
  {
   "cell_type": "code",
   "execution_count": 8,
   "metadata": {},
   "outputs": [],
   "source": [
    "g = Graph()\n",
    "\n",
    "namespace_str = 'http://www.semanticweb.org/zacharias.detorakis/ontologies/2021/2/lab/'\n",
    "ex = Namespace(namespace_str)\n",
    "g.bind(\"ex\", ex)\n",
    "\n",
    "dpo = Namespace(\"http://dbpedia.org/resource/\")\n",
    "g.bind(\"dpo\", dpo)\n",
    "\n",
    "for index, row in df.iterrows():\n",
    "    \n",
    "    # Create the URIs for the cities and countries\n",
    "    city = URIRef(namespace_str+row['city_ascii'].replace(\" \", \"_\"))\n",
    "    externalUri =  getExternalKGURI(row['city_ascii'])\n",
    "    if externalUri!= \"\":\n",
    "        city = URIRef(externalUri)\n",
    "\n",
    "        \n",
    "    country = URIRef(namespace_str+row['country'].replace(\" \", \"_\"))\n",
    "    externalUri =  getExternalKGURI(row['country'])\n",
    "    if externalUri!= \"\":\n",
    "        country = URIRef(externalUri)\n",
    "        \n",
    "        \n",
    "        \n",
    "    g.add((city, RDF.type, ex.City))\n",
    "    g.add((country, RDF.type, ex.Country))\n",
    "    \n",
    "    # Add city properties\n",
    "    g.add((city, ex.name, Literal(row['city'])))\n",
    "    g.add((city, ex.citySscii, Literal(row['city_ascii'])))\n",
    "    g.add((city, ex.adminName, Literal(row['admin_name'])))\n",
    "    g.add((city, ex.lattitude, Literal(row['lat'])))\n",
    "    g.add((city, ex.longitude, Literal(row['lng'])))\n",
    "    g.add((city, ex.population, Literal(row['population'])))\n",
    "    g.add((city, ex.hasCountry, country))\n",
    "    if (row['capital'] == row['capital']): #check for nan\n",
    "        g.add((city, ex.capitalStatus, Literal(row['capital'])))\n",
    "\n",
    "    # Add country data properties\n",
    "    g.add((country, ex.iso2Code,  Literal(row['iso2'])))\n",
    "    g.add((country, ex.iso3_code,  Literal(row['iso3'])))\n",
    "    g.add((country, ex.name,  Literal(row['country'])))\n",
    "    \n",
    "    if (row['capital'] == 'primary'):\n",
    "        g.add((country, ex.hasCapital, city))\n",
    "    \n",
    "# print(g.serialize(format=\"turtle\").decode(\"utf-8\"))\n",
    "g.serialize(destination='lab3_data_graph_dpo.ttl', format='ttl')"
   ]
  },
  {
   "cell_type": "code",
   "execution_count": null,
   "metadata": {},
   "outputs": [],
   "source": []
  }
 ],
 "metadata": {
  "kernelspec": {
   "display_name": "Python 3",
   "language": "python",
   "name": "python3"
  },
  "language_info": {
   "codemirror_mode": {
    "name": "ipython",
    "version": 3
   },
   "file_extension": ".py",
   "mimetype": "text/x-python",
   "name": "python",
   "nbconvert_exporter": "python",
   "pygments_lexer": "ipython3",
   "version": "3.7.3"
  }
 },
 "nbformat": 4,
 "nbformat_minor": 4
}
