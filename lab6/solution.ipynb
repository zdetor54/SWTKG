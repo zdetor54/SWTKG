{
 "cells": [
  {
   "cell_type": "code",
   "execution_count": 1,
   "metadata": {},
   "outputs": [
    {
     "name": "stderr",
     "output_type": "stream",
     "text": [
      "* Owlready2 * Warning: optimized Cython parser module 'owlready2_optimized' is not available, defaulting to slower Python implementation\n"
     ]
    }
   ],
   "source": [
    "import csv\n",
    "import pandas as pd\n",
    "from owlready2 import *\n",
    "\n",
    "from rdflib import Graph\n",
    "from rdflib import URIRef, BNode, Literal\n",
    "from rdflib import Namespace\n",
    "from rdflib.namespace import OWL, RDF, RDFS, FOAF, XSD\n"
   ]
  },
  {
   "cell_type": "code",
   "execution_count": 2,
   "metadata": {},
   "outputs": [],
   "source": [
    "def loadOntology(urionto):\n",
    "    \n",
    "    #Method from owlready\n",
    "    onto = get_ontology(urionto).load()\n",
    "    \n",
    "    print(\"Classes in Ontology: \" + str(len(list(onto.classes()))))\n",
    "    for cls in onto.classes():                \n",
    "            print(\"\\t\"+cls.iri)\n",
    "    return onto\n"
   ]
  },
  {
   "cell_type": "code",
   "execution_count": 18,
   "metadata": {},
   "outputs": [],
   "source": [
    "# using_builtin_libary(\"worldcities-free-100.csv\")\n",
    "df = pd.read_csv(\"worldcities-free-100.csv\", sep=',', quotechar='\"',escapechar=\"\\\\\")"
   ]
  },
  {
   "cell_type": "code",
   "execution_count": null,
   "metadata": {},
   "outputs": [],
   "source": []
  },
  {
   "cell_type": "code",
   "execution_count": 101,
   "metadata": {},
   "outputs": [
    {
     "name": "stdout",
     "output_type": "stream",
     "text": [
      "Classes in Ontology: 4\n",
      "\thttp://www.semanticweb.org/zacharias.detorakis/ontologies/2021/2/lab6#ex:country\n",
      "\thttp://www.semanticweb.org/zacharias.detorakis/ontologies/2021/2/lab6#ex:capital\n",
      "\thttp://www.semanticweb.org/zacharias.detorakis/ontologies/2021/2/lab6#ex:city\n",
      "\thttp://www.semanticweb.org/zacharias.detorakis/ontologies/2021/2/lab6#ex:not_capital\n"
     ]
    }
   ],
   "source": [
    "#Load ontology\n",
    "onto = loadOntology(\"ex.owl\")"
   ]
  },
  {
   "cell_type": "code",
   "execution_count": 21,
   "metadata": {},
   "outputs": [],
   "source": [
    "g = Graph()\n",
    "    \n",
    "ex = Namespace(\"http://example.org/\")\n",
    "g.bind(\"ex\", ex)\n",
    "\n",
    "for index, row in df.iterrows():\n",
    "    \n",
    "    # Create the URIs for the cities and countries\n",
    "    city = URIRef(\"http://example.org/\"+row['city'].replace(\" \", \"_\"))\n",
    "    country = URIRef(\"http://example.org/\"+row['country'].replace(\" \", \"_\"))\n",
    "    g.add((city, RDF.type, ex.city))\n",
    "    g.add((country, RDF.type, ex.country))\n",
    "    \n",
    "    # Add city properties\n",
    "    g.add((city, ex.name, Literal(row['city'])))\n",
    "    g.add((city, ex.city_ascii, Literal(row['city_ascii'])))\n",
    "    g.add((city, ex.admin_name, Literal(row['admin_name'])))\n",
    "    g.add((city, ex.lattitude, Literal(row['lat'])))\n",
    "    g.add((city, ex.longitude, Literal(row['lng'])))\n",
    "    g.add((city, ex.population, Literal(row['population'])))\n",
    "    g.add((city, ex.has_country, country))\n",
    "    if (row['capital'] == row['capital']): #check for nan\n",
    "        g.add((city, ex.capital_status, Literal(row['capital'])))\n",
    "\n",
    "    # Add country data properties\n",
    "    g.add((country, ex.iso2_code,  Literal(row['iso2'])))\n",
    "    g.add((country, ex.iso3_code,  Literal(row['iso3'])))\n",
    "    g.add((country, ex.name,  Literal(row['country'])))\n",
    "    \n",
    "    if (row['capital'] == 'primary'):\n",
    "        g.add((country, ex.has_capital, city))\n",
    "    \n",
    "# print(g.serialize(format=\"turtle\").decode(\"utf-8\"))\n",
    "g.serialize(destination='lab3_data_graph.ttl', format='ttl')"
   ]
  },
  {
   "cell_type": "code",
   "execution_count": 20,
   "metadata": {},
   "outputs": [
    {
     "name": "stdout",
     "output_type": "stream",
     "text": [
      "'country_name','city_name','capital','6048700'\n",
      "'Colombia','Bogotá','primary',9464000\n",
      "'Mexico','Mexico City','primary',20996000\n",
      "'Indonesia','Jakarta','primary',34540000\n",
      "'China','Beijing','primary',19433000\n",
      "'Korea, South','Seoul','primary',21794000\n",
      "'Philippines','Manila','primary',23088000\n",
      "'Thailand','Bangkok','primary',17066000\n",
      "'Chile','Santiago','primary',7007000\n",
      "'United Kingdom','London','primary',10979000\n",
      "'Malaysia','Kuala Lumpur','primary',8285000\n",
      "'Saudi Arabia','Riyadh','primary',6881000\n",
      "'Congo (Kinshasa)','Kinshasa','primary',13528000\n",
      "'Angola','Luanda','primary',8417000\n",
      "'Peru','Lima','primary',9848000\n",
      "'Egypt','Cairo','primary',19372000\n",
      "'Argentina','Buenos Aires','primary',16157000\n",
      "'France','Paris','primary',11020000\n",
      "'Tanzania','Dar es Salaam','primary',6698000\n",
      "'Bangladesh','Dhaka','primary',15443000\n",
      "'Russia','Moscow','primary',17125000\n",
      "'Japan','Tokyo','primary',37977000\n",
      "'Sudan','Khartoum','primary',7282000\n",
      "'Vietnam','Hanoi','primary',7785000\n",
      "'Iran','Tehran','primary',13633000\n"
     ]
    }
   ],
   "source": [
    "\n",
    "qres = g.query(\n",
    "    \"\"\"SELECT ?name ?capital ?population ?country_name where {\n",
    "      ?city rdf:type ex:city;\n",
    "              ex:name ?name;\n",
    "              ex:population ?population;\n",
    "              ex:capital_status ?capital;\n",
    "              ex:has_country ?country.\n",
    "      ?country ex:name ?country_name.\n",
    "              \n",
    "      FILTER (STR(?capital)=\"primary\").\n",
    "      FILTER (?population>5000000).\n",
    "      \n",
    "    }\"\"\")\n",
    "\n",
    "print(f\"'country_name','city_name','capital','{str(row.population)}'\")\n",
    "for row in qres:\n",
    "#     Row is a list of matched RDF terms: URIs, literals or blank nodes\n",
    "    print(f\"'{str(row.country_name)}','{str(row.name)}','{str(row.capital)}',{str(row.population)}\")"
   ]
  },
  {
   "cell_type": "code",
   "execution_count": 57,
   "metadata": {},
   "outputs": [
    {
     "data": {
      "text/plain": [
       "rdflib.plugins.sparql.processor.SPARQLResult"
      ]
     },
     "execution_count": 57,
     "metadata": {},
     "output_type": "execute_result"
    }
   ],
   "source": [
    "type(qres)"
   ]
  },
  {
   "cell_type": "code",
   "execution_count": 41,
   "metadata": {},
   "outputs": [
    {
     "data": {
      "text/plain": [
       "<Graph identifier=Ncb45d16ff66746738a502604ea4ed389 (<class 'rdflib.graph.Graph'>)>"
      ]
     },
     "execution_count": 41,
     "metadata": {},
     "output_type": "execute_result"
    }
   ],
   "source": [
    "g = Graph()\n",
    "g.parse(\"lab3_data_graph.ttl\", format=\"ttl\")"
   ]
  },
  {
   "cell_type": "code",
   "execution_count": 60,
   "metadata": {},
   "outputs": [
    {
     "ename": "TypeError",
     "evalue": "'SPARQLResult' object is not subscriptable",
     "output_type": "error",
     "traceback": [
      "\u001b[1;31m---------------------------------------------------------------------------\u001b[0m",
      "\u001b[1;31mTypeError\u001b[0m                                 Traceback (most recent call last)",
      "\u001b[1;32m<ipython-input-60-3eb738422dbb>\u001b[0m in \u001b[0;36m<module>\u001b[1;34m\u001b[0m\n\u001b[1;32m----> 1\u001b[1;33m \u001b[0mdf2\u001b[0m \u001b[1;33m=\u001b[0m \u001b[0mpd\u001b[0m\u001b[1;33m.\u001b[0m\u001b[0mDataFrame\u001b[0m\u001b[1;33m(\u001b[0m\u001b[0mqres\u001b[0m\u001b[1;33m[\u001b[0m\u001b[1;34m'results'\u001b[0m\u001b[1;33m]\u001b[0m\u001b[1;33m[\u001b[0m\u001b[1;34m'bindings'\u001b[0m\u001b[1;33m]\u001b[0m\u001b[1;33m)\u001b[0m\u001b[1;33m\u001b[0m\u001b[1;33m\u001b[0m\u001b[0m\n\u001b[0m\u001b[0;32m      2\u001b[0m \u001b[0mdf2\u001b[0m\u001b[1;33m.\u001b[0m\u001b[0mapplymap\u001b[0m\u001b[1;33m(\u001b[0m\u001b[1;32mlambda\u001b[0m \u001b[0mx\u001b[0m\u001b[1;33m:\u001b[0m \u001b[0mx\u001b[0m\u001b[1;33m[\u001b[0m\u001b[1;34m'value'\u001b[0m\u001b[1;33m]\u001b[0m\u001b[1;33m)\u001b[0m\u001b[1;33m\u001b[0m\u001b[1;33m\u001b[0m\u001b[0m\n",
      "\u001b[1;31mTypeError\u001b[0m: 'SPARQLResult' object is not subscriptable"
     ]
    }
   ],
   "source": [
    "df2 = pd.DataFrame(qres['results']['bindings'])\n",
    "df2.applymap(lambda x: x['value'])"
   ]
  },
  {
   "cell_type": "code",
   "execution_count": null,
   "metadata": {},
   "outputs": [],
   "source": []
  }
 ],
 "metadata": {
  "kernelspec": {
   "display_name": "Python 3",
   "language": "python",
   "name": "python3"
  },
  "language_info": {
   "codemirror_mode": {
    "name": "ipython",
    "version": 3
   },
   "file_extension": ".py",
   "mimetype": "text/x-python",
   "name": "python",
   "nbconvert_exporter": "python",
   "pygments_lexer": "ipython3",
   "version": "3.7.3"
  }
 },
 "nbformat": 4,
 "nbformat_minor": 2
}
